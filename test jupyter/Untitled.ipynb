{
 "cells": [
  {
   "cell_type": "code",
   "execution_count": 1,
   "id": "c0599c3c",
   "metadata": {},
   "outputs": [
    {
     "name": "stdout",
     "output_type": "stream",
     "text": [
      "39.94011976047904\n"
     ]
    }
   ],
   "source": [
    "salary= 10000\n",
    "\n",
    "height=1.67\n",
    "\n",
    "weight=66.7 \n",
    "\n",
    "bmi= weight/height \n",
    "\n",
    "print(bmi)"
   ]
  },
  {
   "cell_type": "code",
   "execution_count": null,
   "id": "719399e5",
   "metadata": {},
   "outputs": [],
   "source": []
  }
 ],
 "metadata": {
  "kernelspec": {
   "display_name": "Python 3",
   "language": "python",
   "name": "python3"
  },
  "language_info": {
   "codemirror_mode": {
    "name": "ipython",
    "version": 3
   },
   "file_extension": ".py",
   "mimetype": "text/x-python",
   "name": "python",
   "nbconvert_exporter": "python",
   "pygments_lexer": "ipython3",
   "version": "3.8.8"
  }
 },
 "nbformat": 4,
 "nbformat_minor": 5
}
